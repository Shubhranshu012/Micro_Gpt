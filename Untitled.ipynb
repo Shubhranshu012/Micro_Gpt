{
 "cells": [
  {
   "cell_type": "code",
   "execution_count": 14,
   "id": "93cbcbd3-e731-4e04-8aea-e5ddea3d3600",
   "metadata": {},
   "outputs": [],
   "source": [
    "import torch\n",
    "text = open(\"input.txt\",\"r\").read()"
   ]
  },
  {
   "cell_type": "code",
   "execution_count": 16,
   "id": "95e4e8d6-c98a-477a-ad3e-97ae09dd3c44",
   "metadata": {},
   "outputs": [
    {
     "data": {
      "text/plain": [
       "1115394"
      ]
     },
     "execution_count": 16,
     "metadata": {},
     "output_type": "execute_result"
    }
   ],
   "source": [
    "len(text)"
   ]
  },
  {
   "cell_type": "code",
   "execution_count": 17,
   "id": "433c36b4-3a81-4b7f-8360-0c03e27f332c",
   "metadata": {},
   "outputs": [
    {
     "name": "stdout",
     "output_type": "stream",
     "text": [
      "\n",
      " !$&',-.3:;?ABCDEFGHIJKLMNOPQRSTUVWXYZabcdefghijklmnopqrstuvwxyz\n",
      "65\n"
     ]
    }
   ],
   "source": [
    "chars = sorted(list(set(text)))\n",
    "vocab_size = len(chars)\n",
    "print(''.join(chars))\n",
    "print(vocab_size)"
   ]
  },
  {
   "cell_type": "code",
   "execution_count": 55,
   "id": "ce18ae56-32b9-48da-9f6f-c39dceab0ab2",
   "metadata": {},
   "outputs": [],
   "source": [
    "#Encoder Decoder \n",
    "stoi={}\n",
    "itos={}\n",
    "i=0\n",
    "for i in range(len(chars)):\n",
    "    stoi[chars[i]]=i\n",
    "i=0\n",
    "for i in range(len(chars)):\n",
    "    itos[i]=chars[i]\n",
    "def encode(inp):\n",
    "    out=[]\n",
    "    i=0\n",
    "    for i in range(len(inp)):\n",
    "        out.append(stoi[inp[i]])\n",
    "    return out\n",
    "    \n",
    "def decode(inp):\n",
    "    return ''.join(itos[i] for i in inp)\n"
   ]
  },
  {
   "cell_type": "code",
   "execution_count": 59,
   "id": "448fc0a5-c21d-4a0c-9a3b-39ef71cb2ca2",
   "metadata": {},
   "outputs": [],
   "source": [
    "import torch\n",
    "data =torch.tensor(encode(text),dtype=torch.long);"
   ]
  },
  {
   "cell_type": "code",
   "execution_count": 62,
   "id": "38adb873-d798-437f-9fae-98c14d9ba022",
   "metadata": {},
   "outputs": [],
   "source": [
    "# Let's now split up the data into train and validation sets (Testing set) \n",
    "n = int(0.9*len(data)) # first 90% will be train, rest val\n",
    "train_data = data[:n]\n",
    "val_data = data[n:]"
   ]
  },
  {
   "cell_type": "code",
   "execution_count": 64,
   "id": "fb0bfec8-67d5-4c6a-aa76-781f255eec38",
   "metadata": {},
   "outputs": [
    {
     "name": "stdout",
     "output_type": "stream",
     "text": [
      "inputs:\n",
      "torch.Size([4, 8])\n",
      "tensor([[58, 46, 39, 58,  1, 58, 46, 53],\n",
      "        [39, 56,  6,  1, 63, 43, 58,  1],\n",
      "        [56, 44, 53, 56, 51,  5, 42,  0],\n",
      "        [56, 53, 59, 45, 46, 58,  1, 63]])\n",
      "targets:\n",
      "torch.Size([4, 8])\n",
      "tensor([[46, 39, 58,  1, 58, 46, 53, 59],\n",
      "        [56,  6,  1, 63, 43, 58,  1, 46],\n",
      "        [44, 53, 56, 51,  5, 42,  0, 14],\n",
      "        [53, 59, 45, 46, 58,  1, 63, 53]])\n",
      "----\n"
     ]
    }
   ],
   "source": [
    "batch_size = 4 # how many independent sequences will we process in parallel?\n",
    "block_size = 8 # what is the maximum context length for predictions?\n",
    "\n",
    "def get_batch(split):\n",
    "    # generate a small batch of data of inputs x and targets y\n",
    "    data = train_data if split == 'train' else val_data\n",
    "    ix = torch.randint(len(data) - block_size, (batch_size,))\n",
    "    x = torch.stack([data[i:i+block_size] for i in ix])\n",
    "    y = torch.stack([data[i+1:i+block_size+1] for i in ix])\n",
    "    return x, y\n",
    "\n",
    "xb, yb = get_batch('train')\n",
    "print('inputs:')\n",
    "print(xb.shape)\n",
    "print(xb)\n",
    "print('targets:')\n",
    "print(yb.shape)\n",
    "print(yb)\n",
    "\n",
    "print('----')"
   ]
  },
  {
   "cell_type": "code",
   "execution_count": 97,
   "id": "65b47ead-cc72-46d5-a058-d58e23f99cba",
   "metadata": {},
   "outputs": [
    {
     "name": "stdout",
     "output_type": "stream",
     "text": [
      "torch.Size([32, 65])\n",
      "tensor(5.1593, grad_fn=<NllLossBackward0>)\n",
      "\n",
      "Sr?qP-QWktXoL&jLDJgOLVz'RIoDqHdhsV&vLLxatjscMpwLERSPyao.qfzs$Ys$zF-w,;eEkzxjgCKFChs!iWW.ObzDnxA Ms$3\n"
     ]
    }
   ],
   "source": [
    "import torch\n",
    "import torch.nn as nn\n",
    "from torch.nn import functional as F\n",
    "torch.manual_seed(1337)\n",
    "\n",
    "class BigramLanguageModel(nn.Module):\n",
    "\n",
    "    def __init__(self, vocab_size):\n",
    "        super().__init__()\n",
    "        # each token directly reads off the logits for the next token from a lookup table\n",
    "        self.token_embedding_table = nn.Embedding(vocab_size, vocab_size)\n",
    "\n",
    "    def forward(self, idx, targets=None):\n",
    "\n",
    "        # idx and targets are both (B,T) tensor of integers\n",
    "        logits = self.token_embedding_table(idx) # (B,T,C)\n",
    "\n",
    "        if targets is None:\n",
    "            loss = None\n",
    "        else:\n",
    "            B, T, C = logits.shape\n",
    "            logits = logits.view(B*T, C)\n",
    "            targets = targets.view(B*T)\n",
    "            loss = F.cross_entropy(logits, targets)\n",
    "\n",
    "        return logits, loss\n",
    "\n",
    "    def generate(self, idx, max_new_tokens):\n",
    "        # idx is (B, T) array of indices in the current context\n",
    "        for _ in range(max_new_tokens):\n",
    "            # get the predictions\n",
    "            logits, loss = self.forward(idx)\n",
    "            # concider what the last element was as its a bigram the next depends on the previous\n",
    "            logits = logits[:, -1, :] # becomes (B, C)\n",
    "            # apply softmax to get probabilities\n",
    "            probs = F.softmax(logits, dim=-1) # (B, C)\n",
    "            # sample from the distribution\n",
    "            idx_next = torch.multinomial(probs, num_samples=1) # (B, 1)\n",
    "            # append sampled index to the running sequence\n",
    "            idx = torch.cat((idx, idx_next), dim=1) # (B, T+1)\n",
    "        return idx\n",
    "\n",
    "m = BigramLanguageModel(vocab_size)\n",
    "logits, loss = m.forward(xb, yb)\n",
    "print(logits.shape)\n",
    "print(loss)\n",
    "\n",
    "print(decode(m.generate(idx = torch.zeros((1, 1), dtype=torch.long), max_new_tokens=100)[0].tolist()))"
   ]
  },
  {
   "cell_type": "code",
   "execution_count": 98,
   "id": "b169524f-41a5-4f09-b8e7-09f763ab82d3",
   "metadata": {},
   "outputs": [],
   "source": [
    "# create a PyTorch optimizer used in time of updation to reduce time \n",
    "optimizer = torch.optim.AdamW(m.parameters(), lr=1e-3)"
   ]
  },
  {
   "cell_type": "code",
   "execution_count": 105,
   "id": "0536e0e7-91dd-4f03-9f8c-7c60072126d9",
   "metadata": {},
   "outputs": [
    {
     "name": "stdout",
     "output_type": "stream",
     "text": [
      "2.459195852279663\n"
     ]
    }
   ],
   "source": [
    "batch_size = 32\n",
    "for steps in range(10000): # increase number of steps for good results...\n",
    "\n",
    "    # sample a batch of data\n",
    "    xb, yb = get_batch('train')\n",
    "\n",
    "    # evaluate the loss\n",
    "    logits, loss = m.forward(xb, yb)\n",
    "    optimizer.zero_grad(set_to_none=True)\n",
    "    loss.backward()\n",
    "    optimizer.step()\n",
    "\n",
    "print(loss.item())"
   ]
  },
  {
   "cell_type": "code",
   "execution_count": 106,
   "id": "1ab0765d-74d8-450c-a285-4185659c694b",
   "metadata": {},
   "outputs": [
    {
     "name": "stdout",
     "output_type": "stream",
     "text": [
      "\n",
      "PRI fa sarut houfofe miollowlle tatho pendanes ive, beepr beerods iesour'd wns t,\n",
      "PENET:\n",
      "WAt,\n",
      "\n",
      "Withe, mecitoo, pe tortind.\n",
      "YOf;\n",
      "WARIRYOresoshokiea'Tofon meacee wilot ananfoud witheeit, br g inde, WAThyoecar, d he curor ance bur bas tot HAD arutrithat ltuanooul prthembugemy veh'Th, ucerir:\n",
      "\n",
      "Whe uieformy t't iofonentareethabearusllin Fie funt oordomed fesathe.\n",
      "D our O tonttig fu ne atedsd ma at, Noto dd, the, f athouretofo mupprieaneso heaveroark, e ss hosikn w m fonon d,\n",
      "\n",
      "CHastiele oy. t bolell b\n"
     ]
    }
   ],
   "source": [
    "print(decode(m.generate(idx = torch.zeros((1, 1), dtype=torch.long), max_new_tokens=500)[0].tolist()))"
   ]
  },
  {
   "cell_type": "code",
   "execution_count": 107,
   "id": "7d8df5f6-f3ad-46da-91f6-0263c67e2fd2",
   "metadata": {},
   "outputs": [
    {
     "ename": "SyntaxError",
     "evalue": "invalid syntax (3156213041.py, line 1)",
     "output_type": "error",
     "traceback": [
      "\u001b[1;36m  Cell \u001b[1;32mIn[107], line 1\u001b[1;36m\u001b[0m\n\u001b[1;33m    -------------------------------\u001b[0m\n\u001b[1;37m                                   ^\u001b[0m\n\u001b[1;31mSyntaxError\u001b[0m\u001b[1;31m:\u001b[0m invalid syntax\n"
     ]
    }
   ],
   "source": [
    "-------------------------------"
   ]
  },
  {
   "cell_type": "code",
   "execution_count": 174,
   "id": "0045cc09-4731-4549-9ef7-6d11deaf8b15",
   "metadata": {},
   "outputs": [
    {
     "data": {
      "text/plain": [
       "torch.Size([4, 8, 32])"
      ]
     },
     "execution_count": 174,
     "metadata": {},
     "output_type": "execute_result"
    }
   ],
   "source": [
    "torch.manual_seed(1337)\n",
    "B,T,C=4,8,32\n",
    "x=torch.randn(B,T,C)\n",
    "x.shape"
   ]
  },
  {
   "cell_type": "code",
   "execution_count": 170,
   "id": "1ca05072-f852-425e-acb0-cea7836a3f6a",
   "metadata": {},
   "outputs": [
    {
     "name": "stdout",
     "output_type": "stream",
     "text": [
      "tensor([[[ 0.1808, -0.0700],\n",
      "         [-0.0894, -0.4926],\n",
      "         [ 0.1490, -0.3199],\n",
      "         [ 0.3504, -0.2238],\n",
      "         [ 0.3525,  0.0545],\n",
      "         [ 0.0688, -0.0396],\n",
      "         [ 0.0927, -0.0682],\n",
      "         [-0.0341,  0.1332]],\n",
      "\n",
      "        [[ 1.3488, -0.1396],\n",
      "         [ 0.8173,  0.4127],\n",
      "         [-0.1342,  0.4395],\n",
      "         [ 0.2711,  0.4774],\n",
      "         [ 0.2421,  0.0694],\n",
      "         [ 0.0084,  0.0020],\n",
      "         [ 0.0712, -0.1128],\n",
      "         [ 0.2527,  0.2149]],\n",
      "\n",
      "        [[-0.6631, -0.2513],\n",
      "         [ 0.1735, -0.0649],\n",
      "         [ 0.1685,  0.3348],\n",
      "         [-0.1621,  0.1765],\n",
      "         [-0.2312, -0.0436],\n",
      "         [-0.1015, -0.2855],\n",
      "         [-0.2593, -0.1630],\n",
      "         [-0.3015, -0.2293]],\n",
      "\n",
      "        [[ 1.6455, -0.8030],\n",
      "         [ 1.4985, -0.5395],\n",
      "         [ 0.4954,  0.3420],\n",
      "         [ 1.0623, -0.1802],\n",
      "         [ 1.1401, -0.4462],\n",
      "         [ 1.0870, -0.4071],\n",
      "         [ 1.0430, -0.1299],\n",
      "         [ 1.1138, -0.1641]]])\n"
     ]
    },
    {
     "data": {
      "text/plain": [
       "False"
      ]
     },
     "execution_count": 170,
     "metadata": {},
     "output_type": "execute_result"
    }
   ],
   "source": [
    "#The actual funtion is to for ervery element it will depend on its prevous element\n",
    "#but every element is of size embeding so we will average the emb \n",
    "#only the previous elements are used in the current and not the next value \n",
    "xbow = torch.zeros((B,T,C))\n",
    "for b in range(B):\n",
    "    for t in range(T):\n",
    "        xprev = x[b,:t+1] # (t,C)\n",
    "        xbow[b,t] = torch.mean(xprev, 0)\n",
    "\n",
    "# or do this both are the same but the above one is more time cosuming\n",
    "vector1=torch.tril(torch.ones((T,T)))\n",
    "vector1=vector1/(torch.sum(vector1,1,keepdim=True))\n",
    "xbow1 =vector1@x\n",
    "\n",
    "# or\n",
    "tril = torch.tril(torch.ones(T, T))\n",
    "wei = torch.zeros((T,T))\n",
    "wei = wei.masked_fill(tril == 0, float('-inf'))\n",
    "wei = F.softmax(wei, dim=-1)\n",
    "xbow3 = wei @ x\n",
    "torch.allclose(xbow1, xbow)\n",
    "\n",
    "#all 3 have the same Funtion and output"
   ]
  },
  {
   "cell_type": "code",
   "execution_count": 198,
   "id": "96865d3e-5451-405e-82e4-91f566c3dda3",
   "metadata": {},
   "outputs": [],
   "source": [
    "# version 4: self-attention!\n",
    "torch.manual_seed(1337)\n",
    "B,T,C = 4,8,32 # batch, time, channels\n",
    "x = torch.randn(B,T,C)\n",
    "\n",
    "# let's see a single Head perform self-attention\n",
    "head_size = 16\n",
    "key = nn.Linear(C, head_size, bias=False)\n",
    "query = nn.Linear(C, head_size, bias=False)\n",
    "value= nn.Linear(C,head_size,bias=False)\n",
    "\n",
    "k = key(x)   # (B, T, 16)   mainly tell what do i contain for each element\n",
    "q = query(x) # (B, T, 16)   mainly tell what are we looking for each element \n",
    "\n",
    "wei =  q @ k.transpose(-2, -1)* head_size**-0.5  # (B, T, 16) @ (B, 16, T) ---> (B, T, T)  // the reason for *head_size**-0.5 is for normalization\n",
    "#or control the variance at initializaion\n",
    "tril = torch.tril(torch.ones(T, T))\n",
    "#wei = torch.zeros((T,T))\n",
    "wei = wei.masked_fill(tril == 0, float('-inf'))\n",
    "wei = F.softmax(wei, dim=-1)\n",
    "\n",
    "v=value(x)\n",
    "out = wei @ v\n",
    "\n",
    "last_linear=nn.Linear(head_size,vocab_size,bias=False)\n",
    "output_final=last_linear(out)"
   ]
  },
  {
   "cell_type": "code",
   "execution_count": 200,
   "id": "dfea2190-7315-4aff-b5ce-f059f795b6dc",
   "metadata": {},
   "outputs": [
    {
     "data": {
      "text/plain": [
       "tensor(0.0472, grad_fn=<VarBackward0>)"
      ]
     },
     "execution_count": 200,
     "metadata": {},
     "output_type": "execute_result"
    }
   ],
   "source": [
    "wei.var()"
   ]
  },
  {
   "cell_type": "code",
   "execution_count": null,
   "id": "a3319a23-4edf-426e-a9c7-c2567e5df769",
   "metadata": {},
   "outputs": [],
   "source": []
  },
  {
   "cell_type": "code",
   "execution_count": 3,
   "id": "5faafdf5-e26e-4218-852a-e84f4edb4ee6",
   "metadata": {},
   "outputs": [],
   "source": [
    "import torch\n",
    "import torch.nn as nn\n",
    "\n",
    "# Sample dimensions\n",
    "b, t, c = 2, 3, 4  # batch size, sequence length, feature dimension\n",
    "\n",
    "# Create a random tensor\n",
    "x = torch.randn(b, t, c)\n",
    "# Define LayerNorm over the last dimension (features)\n",
    "layer_norm = nn.LayerNorm(c)\n",
    "\n",
    "# Apply LayerNorm\n",
    "output = layer_norm(x)"
   ]
  },
  {
   "cell_type": "code",
   "execution_count": 4,
   "id": "d20f1753-de6a-4463-9f2a-784c14bd18f1",
   "metadata": {},
   "outputs": [
    {
     "data": {
      "text/plain": [
       "tensor([[[ 0.4390, -0.3156, -0.2803, -0.4589],\n",
       "         [ 1.3048, -0.9796, -0.0122,  0.3481],\n",
       "         [ 1.6772,  0.8615,  2.3327, -0.9663]],\n",
       "\n",
       "        [[ 0.1054,  0.1373,  0.6127,  0.3894],\n",
       "         [ 1.1749, -1.4988, -0.8689,  1.9561],\n",
       "         [ 0.8900, -0.6471,  0.5525, -0.8916]]])"
      ]
     },
     "execution_count": 4,
     "metadata": {},
     "output_type": "execute_result"
    }
   ],
   "source": [
    "x"
   ]
  },
  {
   "cell_type": "code",
   "execution_count": 7,
   "id": "ac4898f3-607c-4669-af1e-20bb8aa5aac4",
   "metadata": {},
   "outputs": [
    {
     "data": {
      "text/plain": [
       "tensor([[[ 1.6998, -0.4635, -0.3622, -0.8742],\n",
       "         [ 1.3937, -1.4002, -0.2170,  0.2236],\n",
       "         [ 0.5667, -0.0928,  1.0968, -1.5707]],\n",
       "\n",
       "        [[-0.9994, -0.8443,  1.4641,  0.3796],\n",
       "         [ 0.6932, -1.1901, -0.7464,  1.2434],\n",
       "         [ 1.2032, -0.8201,  0.7588, -1.1419]]],\n",
       "       grad_fn=<NativeLayerNormBackward0>)"
      ]
     },
     "execution_count": 7,
     "metadata": {},
     "output_type": "execute_result"
    }
   ],
   "source": [
    "output"
   ]
  },
  {
   "cell_type": "code",
   "execution_count": 11,
   "id": "79866e62-a353-4f7a-80e9-921744cd45ed",
   "metadata": {},
   "outputs": [
    {
     "data": {
      "text/plain": [
       "tensor(6.2088e-09, grad_fn=<MeanBackward0>)"
      ]
     },
     "execution_count": 11,
     "metadata": {},
     "output_type": "execute_result"
    }
   ],
   "source": [
    "output[0].mean()"
   ]
  },
  {
   "cell_type": "code",
   "execution_count": 12,
   "id": "04997464-fa56-4181-8c5d-5b2947cf3d43",
   "metadata": {},
   "outputs": [],
   "source": [
    "letx1=[1.6998, -0.4635, -0.3622, -0.8742,1.3937, -1.4002, -0.2170,  0.2236,0.5667, -0.0928,  1.0968, -1.5707]"
   ]
  },
  {
   "cell_type": "code",
   "execution_count": 15,
   "id": "fcd08f22-2af5-4502-b6c1-b307abce9b92",
   "metadata": {},
   "outputs": [],
   "source": [
    "let2=torch.tensor(letx1)"
   ]
  },
  {
   "cell_type": "code",
   "execution_count": 16,
   "id": "cf3ebfc5-b771-4b18-a520-d275abb5d0cd",
   "metadata": {},
   "outputs": [
    {
     "data": {
      "text/plain": [
       "tensor(-1.1176e-08)"
      ]
     },
     "execution_count": 16,
     "metadata": {},
     "output_type": "execute_result"
    }
   ],
   "source": [
    "let2.mean()"
   ]
  },
  {
   "cell_type": "code",
   "execution_count": 17,
   "id": "72657ccf-9ae1-429e-8d37-58afb3a21a7f",
   "metadata": {},
   "outputs": [
    {
     "data": {
      "text/plain": [
       "tensor(1.0909)"
      ]
     },
     "execution_count": 17,
     "metadata": {},
     "output_type": "execute_result"
    }
   ],
   "source": [
    "let2.var()"
   ]
  },
  {
   "cell_type": "code",
   "execution_count": null,
   "id": "4ed4614a-198a-4307-b503-15bb565f0317",
   "metadata": {},
   "outputs": [],
   "source": []
  }
 ],
 "metadata": {
  "kernelspec": {
   "display_name": "Python 3 (ipykernel)",
   "language": "python",
   "name": "python3"
  },
  "language_info": {
   "codemirror_mode": {
    "name": "ipython",
    "version": 3
   },
   "file_extension": ".py",
   "mimetype": "text/x-python",
   "name": "python",
   "nbconvert_exporter": "python",
   "pygments_lexer": "ipython3",
   "version": "3.12.1"
  }
 },
 "nbformat": 4,
 "nbformat_minor": 5
}
